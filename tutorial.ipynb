{
 "cells": [
  {
   "attachments": {},
   "cell_type": "markdown",
   "metadata": {},
   "source": [
    "#### hyperparameters\n",
    "\n",
    "`pre_seq_length`: the number of given frames\n",
    "\n",
    "`aft_seq_length`: the number of frames to predict"
   ]
  },
  {
   "cell_type": "code",
   "execution_count": 1,
   "metadata": {},
   "outputs": [],
   "source": [
    "# #hide\n",
    "# ! [ -e /content ] && pip install -Uqq fastai  # upgrade fastai on colab\n",
    "\n",
    "\n",
    "# !pip install -Uqq fastai"
   ]
  },
  {
   "cell_type": "code",
   "execution_count": 1,
   "metadata": {},
   "outputs": [],
   "source": [
    "pre_seq_length = 10\n",
    "aft_seq_length = 10\n",
    "batch_size = 16"
   ]
  },
  {
   "cell_type": "code",
   "execution_count": 2,
   "metadata": {},
   "outputs": [
    {
     "data": {
      "text/plain": [
       "<AxesSubplot:>"
      ]
     },
     "execution_count": 2,
     "metadata": {},
     "output_type": "execute_result"
    },
    {
     "data": {
      "image/png": "[encoded data removed]",
      "text/plain": [
       "<Figure size 640x480 with 1 Axes>"
      ]
     },
     "metadata": {},
     "output_type": "display_data"
    },
    {
     "data": {
      "image/png": "[encoded data removed]",
      "text/plain": [
       "<Figure size 1000x500 with 1 Axes>"
      ]
     },
     "metadata": {},
     "output_type": "display_data"
    }
   ],
   "source": [
    "import torch\n",
    "\n",
    "\n",
    "\n",
    "from fastai.vision.all import *\n",
    "\n",
    "path = untar_data(URLs.MNIST)\n",
    "path.ls()\n",
    "\n",
    "files = get_image_files(path/'training')\n",
    "\n",
    "\n",
    "digit_size = 28\n",
    "image_size = 64\n",
    "# step_length = 0.2\n",
    "step_length = 0.2\n",
    "N = len(files)\n",
    "\n",
    "\n",
    "\n",
    "def get_random_trajectory(seq_length):\n",
    "    \"Generate a trajectory\"\n",
    "    canvas_size = image_size - digit_size\n",
    "    x, y, v_x, v_y = np.random.random(4)\n",
    "    out_x, out_y = [], []\n",
    "\n",
    "    for i in range(seq_length):\n",
    "        # Take a step along velocity.\n",
    "        y += v_y * step_length\n",
    "        x += v_x * step_length\n",
    "\n",
    "        # Bounce off edges.\n",
    "        if x <= 0:\n",
    "            x = 0\n",
    "            v_x = -v_x\n",
    "        if x >= 1.0:\n",
    "            x = 1.0\n",
    "            v_x = -v_x\n",
    "        if y <= 0:\n",
    "            y = 0\n",
    "            v_y = -v_y\n",
    "        if y >= 1.0:\n",
    "            y = 1.0\n",
    "            v_y = -v_y\n",
    "        out_x.append(x * canvas_size)\n",
    "        out_y.append(y * canvas_size)\n",
    "\n",
    "    return tensor(out_x, dtype=torch.uint8), tensor(out_y, dtype=torch.uint8)\n",
    "\n",
    "\n",
    "x,y = get_random_trajectory(10)\n",
    "plt.plot(x,y)\n",
    "\n",
    "\n",
    "\n",
    "from random import choice\n",
    "def get_rand_img():\n",
    "    \"Get one digit randomly\"\n",
    "    img = load_image(choice(files))\n",
    "    return TensorImage(img)\n",
    "\n",
    "\n",
    "timg = get_rand_img()\n",
    "\n",
    "\n",
    "def generate_moving_digit(n_frames, image_size=64):\n",
    "    \"Move one digit on the canvas\"\n",
    "    digit_image = get_rand_img()\n",
    "    xs, ys = get_random_trajectory(n_frames)\n",
    "    canvas = torch.zeros((n_frames, 1, image_size, image_size), dtype=torch.uint8)\n",
    "    for i,(x,y) in enumerate(zip(xs,ys)):\n",
    "        canvas[i, 0, y:(y+digit_size),x:(x+digit_size)] = digit_image\n",
    "    return canvas\n",
    "\n",
    "def generate_moving_digits(n_frames, digits=1):\n",
    "    \"generate multiple digits\"\n",
    "    return torch.stack([generate_moving_digit(n_frames) for n in range(digits)]).max(dim=0)[0]\n",
    "\n",
    "\n",
    "digits = generate_moving_digits(1000, 2)\n",
    "# show_images(digits)\n",
    "\n",
    "\n",
    "class ImageSeq(fastuple):\n",
    "    @classmethod\n",
    "    def create(cls, t, cl_type=TensorImageBW):\n",
    "        return cls(tuple(cl_type(im) for im in t))\n",
    "    def show(self, ctx=None, **kwargs):\n",
    "        return show_image(torch.cat([t for t in self], dim=-1), ctx=ctx, **self[0]._show_args, figsize=(10,5), **kwargs)\n",
    "\n",
    "\n",
    "img_seq = ImageSeq.create(digits)\n",
    "\n",
    "img_seq.show()"
   ]
  },
  {
   "cell_type": "markdown",
   "metadata": {},
   "source": [
    "## 10 --> 1"
   ]
  },
  {
   "cell_type": "code",
   "execution_count": 5,
   "metadata": {},
   "outputs": [
    {
     "name": "stdout",
     "output_type": "stream",
     "text": [
      "X_train shape: (792, 10, 1, 64, 64)\n",
      "Y_train shape: (792, 1, 64, 64)\n",
      "X_val shape: (99, 10, 1, 64, 64)\n",
      "Y_val shape: (99, 1, 64, 64)\n",
      "X_test shape: (99, 10, 1, 64, 64)\n",
      "Y_test shape: (99, 1, 64, 64)\n"
     ]
    }
   ],
   "source": [
    "# import numpy as np\n",
    "\n",
    "# # Assume `images` is the tuple containing 10,000 images of shape (1, 64, 64)\n",
    "# # images = tuple(np.random.randn(1, 64, 64) for _ in range(10000))  # Replace with your actual data\n",
    "# images = img_seq\n",
    "# # Convert tuple to a list for easier manipulation\n",
    "# images = list(images)\n",
    "\n",
    "# # Create sequences\n",
    "# X, Y = [], []\n",
    "# for i in range(len(images) - 10):\n",
    "#     X.append(np.array(images[i:i+10]))\n",
    "#     Y.append(np.array(images[i+10]))\n",
    "\n",
    "# # Convert to numpy arrays\n",
    "# X = np.array(X)  # Shape: (num_sequences, 10, 1, 64, 64)\n",
    "# Y = np.array(Y)  # Shape: (num_sequences, 1, 64, 64)\n",
    "\n",
    "# # Calculate number of sequences\n",
    "# num_sequences = len(X)\n",
    "\n",
    "# # Split into train, validation, and test sets\n",
    "# train_size = int(0.8 * num_sequences)\n",
    "# val_size = int(0.1 * num_sequences)\n",
    "# test_size = num_sequences - train_size - val_size\n",
    "\n",
    "# X_train = X[:train_size]\n",
    "# Y_train = Y[:train_size]\n",
    "\n",
    "# X_val = X[train_size:train_size + val_size]\n",
    "# Y_val = Y[train_size:train_size + val_size]\n",
    "\n",
    "# X_test = X[train_size + val_size:]\n",
    "# Y_test = Y[train_size + val_size:]\n",
    "\n",
    "# # Create the dictionary\n",
    "# datasets = {\n",
    "#     'X_train': X_train,\n",
    "#     'Y_train': Y_train,\n",
    "#     'X_val': X_val,\n",
    "#     'Y_val': Y_val,\n",
    "#     'X_test': X_test,\n",
    "#     'Y_test': Y_test\n",
    "# }\n",
    "\n",
    "# # Print dataset shapes to verify\n",
    "# print(\"X_train shape:\", datasets['X_train'].shape)\n",
    "# print(\"Y_train shape:\", datasets['Y_train'].shape)\n",
    "# print(\"X_val shape:\", datasets['X_val'].shape)\n",
    "# print(\"Y_val shape:\", datasets['Y_val'].shape)\n",
    "# print(\"X_test shape:\", datasets['X_test'].shape)\n",
    "# print(\"Y_test shape:\", datasets['Y_test'].shape)\n",
    "\n",
    "\n",
    "\n",
    "\n",
    "\n",
    "# import matplotlib.pyplot as plt\n",
    "\n",
    "# # Select the first sequence and its label\n",
    "# sequence_index = 0\n",
    "# X_sample = datasets['X_train'][sequence_index]  # Shape: (10, 1, 64, 64)\n",
    "# Y_sample = datasets['Y_train'][sequence_index]  # Shape: (1, 64, 64)\n",
    "\n",
    "# # Plot the 10 images in the sequence\n",
    "# fig, axes = plt.subplots(2, 5, figsize=(15, 6))\n",
    "# fig.suptitle('X_train Sequence and Corresponding Y_train Image', fontsize=16)\n",
    "\n",
    "# for i in range(10):\n",
    "#     ax = axes[i // 5, i % 5]\n",
    "#     ax.imshow(X_sample[i, 0], cmap='gray')\n",
    "#     ax.set_title(f'Frame {i}')\n",
    "#     ax.axis('off')\n",
    "\n",
    "# # Show the corresponding label image (11th frame)\n",
    "# fig, ax = plt.subplots(figsize=(6, 6))\n",
    "# ax.imshow(Y_sample[0], cmap='gray')\n",
    "# ax.set_title('Y_train (10th Frame)')\n",
    "# ax.axis('off')\n",
    "\n",
    "# plt.show()"
   ]
  },
  {
   "cell_type": "markdown",
   "metadata": {},
   "source": [
    "## 10 --> 10"
   ]
  },
  {
   "cell_type": "code",
   "execution_count": 3,
   "metadata": {},
   "outputs": [
    {
     "name": "stdout",
     "output_type": "stream",
     "text": [
      "X_train shape: (784, 10, 1, 64, 64)\n",
      "Y_train shape: (784, 10, 1, 64, 64)\n",
      "X_val shape: (98, 10, 1, 64, 64)\n",
      "Y_val shape: (98, 10, 1, 64, 64)\n",
      "X_test shape: (99, 10, 1, 64, 64)\n",
      "Y_test shape: (99, 10, 1, 64, 64)\n"
     ]
    },
    {
     "data": {
      "image/png": "[encoded data removed]",
      "text/plain": [
       "<Figure size 1500x600 with 10 Axes>"
      ]
     },
     "metadata": {},
     "output_type": "display_data"
    },
    {
     "data": {
      "image/png": "[encoded data removed]",
      "text/plain": [
       "<Figure size 1500x600 with 10 Axes>"
      ]
     },
     "metadata": {},
     "output_type": "display_data"
    }
   ],
   "source": [
    "import numpy as np\n",
    "\n",
    "# Assume `images` is the tuple containing 10,000 images of shape (64, 64)\n",
    "# images = tuple(np.random.randn(64, 64) for _ in range(10000))  # Replace with your actual data\n",
    "images = img_seq  # Replace `img_seq` with your actual image sequence\n",
    "# Convert tuple to a list for easier manipulation\n",
    "images = list(images)\n",
    "\n",
    "# Create sequences of 10 frames for X and next 10 frames for Y\n",
    "X, Y = [], []\n",
    "sequence_length = 10  # Number of frames in each input and output sequence\n",
    "\n",
    "for i in range(len(images) - 2 * sequence_length + 1):\n",
    "    X.append(np.array(images[i:i + sequence_length]))\n",
    "    Y.append(np.array(images[i + sequence_length:i + 2 * sequence_length]))\n",
    "\n",
    "# Convert lists to numpy arrays\n",
    "X = np.array(X)  # Shape: (num_sequences, sequence_length, 64, 64)\n",
    "Y = np.array(Y)  # Shape: (num_sequences, sequence_length, 64, 64)\n",
    "\n",
    "# Calculate number of sequences\n",
    "num_sequences = len(X)\n",
    "\n",
    "# Split into train, validation, and test sets\n",
    "train_size = int(0.8 * num_sequences)\n",
    "val_size = int(0.1 * num_sequences)\n",
    "test_size = num_sequences - train_size - val_size\n",
    "\n",
    "X_train = X[:train_size]\n",
    "Y_train = Y[:train_size]\n",
    "\n",
    "X_val = X[train_size:train_size + val_size]\n",
    "Y_val = Y[train_size:train_size + val_size]\n",
    "\n",
    "X_test = X[train_size + val_size:]\n",
    "Y_test = Y[train_size + val_size:]\n",
    "\n",
    "# Create the dictionary\n",
    "datasets = {\n",
    "    'X_train': X_train,\n",
    "    'Y_train': Y_train,\n",
    "    'X_val': X_val,\n",
    "    'Y_val': Y_val,\n",
    "    'X_test': X_test,\n",
    "    'Y_test': Y_test\n",
    "}\n",
    "\n",
    "# Print dataset shapes to verify\n",
    "print(\"X_train shape:\", datasets['X_train'].shape)  # Expecting (train_size, 10, 64, 64)\n",
    "print(\"Y_train shape:\", datasets['Y_train'].shape)  # Expecting (train_size, 10, 64, 64)\n",
    "print(\"X_val shape:\", datasets['X_val'].shape)      # Expecting (val_size, 10, 64, 64)\n",
    "print(\"Y_val shape:\", datasets['Y_val'].shape)      # Expecting (val_size, 10, 64, 64)\n",
    "print(\"X_test shape:\", datasets['X_test'].shape)    # Expecting (test_size, 10, 64, 64)\n",
    "print(\"Y_test shape:\", datasets['Y_test'].shape)    # Expecting (test_size, 10, 64, 64)\n",
    "\n",
    "\n",
    "\n",
    "\n",
    "import matplotlib.pyplot as plt\n",
    "\n",
    "# Select the first sequence and its label\n",
    "sequence_index = 0\n",
    "X_sample = datasets['X_train'][sequence_index]  # Shape: (10, 64, 64)\n",
    "Y_sample = datasets['Y_train'][sequence_index]  # Shape: (10, 64, 64)\n",
    "\n",
    "# Plot the 10 images in the sequence X_train\n",
    "fig, axes = plt.subplots(2, 5, figsize=(15, 6))\n",
    "fig.suptitle('X_train Sequence', fontsize=16)\n",
    "\n",
    "for i in range(10):\n",
    "    ax = axes[i // 5, i % 5]\n",
    "    ax.imshow(X_sample[i][-1], cmap='gray')\n",
    "    ax.set_title(f'Frame {i}')\n",
    "    ax.axis('off')\n",
    "\n",
    "# Plot the 10 images in the sequence Y_train\n",
    "fig, axes = plt.subplots(2, 5, figsize=(15, 6))\n",
    "fig.suptitle('Y_train Sequence', fontsize=16)\n",
    "\n",
    "for i in range(10):\n",
    "    ax = axes[i // 5, i % 5]\n",
    "    ax.imshow(Y_sample[i][-1], cmap='gray')\n",
    "    ax.set_title(f'Frame {i + 10}')\n",
    "    ax.axis('off')\n",
    "\n",
    "plt.show()\n",
    "\n"
   ]
  },
  {
   "cell_type": "code",
   "execution_count": 4,
   "metadata": {},
   "outputs": [
    {
     "name": "stdout",
     "output_type": "stream",
     "text": [
      "running install\n",
      "/home/drajani/.local/lib/python3.10/site-packages/setuptools/command/install.py:34: SetuptoolsDeprecationWarning: setup.py install is deprecated. Use build and pip and other standards-based tools.\n",
      "  warnings.warn(\n",
      "/home/drajani/.local/lib/python3.10/site-packages/setuptools/command/easy_install.py:156: EasyInstallDeprecationWarning: easy_install command is deprecated. Use build and pip and other standards-based tools.\n",
      "  warnings.warn(\n",
      "error: can't create or remove files in install directory\n",
      "\n",
      "The following error occurred while trying to add or remove files in the\n",
      "installation directory:\n",
      "\n",
      "    [Errno 13] Permission denied: '/usr/local/lib/python3.10/dist-packages/test-easy-install-1170824.write-test'\n",
      "\n",
      "The installation directory you specified (via --install-dir, --prefix, or\n",
      "the distutils default setting) was:\n",
      "\n",
      "    /usr/local/lib/python3.10/dist-packages/\n",
      "\n",
      "Perhaps your account does not have write access to this directory?  If the\n",
      "installation directory is a system-owned directory, you may need to sign in\n",
      "as the administrator or \"root\" account.  If you do not have administrative\n",
      "access to this machine, you may wish to choose a different installation\n",
      "directory, preferably one that is listed in your PYTHONPATH environment\n",
      "variable.\n",
      "\n",
      "For information on other options, you may wish to consult the\n",
      "documentation at:\n",
      "\n",
      "  https://setuptools.pypa.io/en/latest/deprecated/easy_install.html\n",
      "\n",
      "Please make the appropriate changes for your system and try again.\n",
      "\n"
     ]
    }
   ],
   "source": [
    "import os\n",
    "# os.environ[\"CUDA_VISIBLE_DEVICES\"]=\"0\"\n",
    "os.chdir('/home/drajani/Desktop/OpenSTL')\n",
    "\n",
    "!python -q setup.py install"
   ]
  },
  {
   "cell_type": "code",
   "execution_count": 5,
   "metadata": {},
   "outputs": [
    {
     "name": "stdout",
     "output_type": "stream",
     "text": [
      "(784, 10, 1, 64, 64)\n"
     ]
    }
   ],
   "source": [
    "train_x, train_y = datasets['X_train'], datasets['Y_train']\n",
    "print(train_x.shape)"
   ]
  },
  {
   "cell_type": "code",
   "execution_count": 6,
   "metadata": {},
   "outputs": [
    {
     "data": {
      "image/png": "[encoded data removed]",
      "text/plain": [
       "<Figure size 3250x300 with 10 Axes>"
      ]
     },
     "metadata": {},
     "output_type": "display_data"
    }
   ],
   "source": [
    "from openstl.utils import show_video_line\n",
    "\n",
    "# show the given frames from an example\n",
    "example_idx = 0\n",
    "show_video_line(train_x[example_idx], ncols=pre_seq_length, vmax=0.6, cbar=False, out_path=None, format='png', use_rgb=True)"
   ]
  },
  {
   "cell_type": "code",
   "execution_count": 7,
   "metadata": {},
   "outputs": [
    {
     "data": {
      "image/png": "[encoded data removed]",
      "text/plain": [
       "<Figure size 3250x300 with 10 Axes>"
      ]
     },
     "metadata": {},
     "output_type": "display_data"
    }
   ],
   "source": [
    "# show the future frames from an example\n",
    "example_idx = 0\n",
    "show_video_line(train_y[example_idx], ncols=aft_seq_length, vmax=0.6, cbar=False, out_path=None, format='png', use_rgb=True)"
   ]
  },
  {
   "attachments": {},
   "cell_type": "markdown",
   "metadata": {},
   "source": [
    "## 2. Utilize custom data"
   ]
  },
  {
   "cell_type": "code",
   "execution_count": 8,
   "metadata": {},
   "outputs": [],
   "source": [
    "import torch\n",
    "from torch.utils.data import Dataset\n",
    "\n",
    "\n",
    "class CustomDataset(Dataset):\n",
    "    def __init__(self, X, Y, normalize=False, data_name='custom'):\n",
    "        super(CustomDataset, self).__init__()\n",
    "        self.X = X\n",
    "        self.Y = Y\n",
    "        self.mean = None\n",
    "        self.std = None\n",
    "        self.data_name = data_name\n",
    "\n",
    "        if normalize:\n",
    "            # get the mean/std values along the channel dimension\n",
    "            mean = data.mean(axis=(0, 1, 2, 3)).reshape(1, 1, -1, 1, 1)\n",
    "            std = data.std(axis=(0, 1, 2, 3)).reshape(1, 1, -1, 1, 1)\n",
    "            data = (data - mean) / std\n",
    "            self.mean = mean\n",
    "            self.std = std\n",
    "\n",
    "    def __len__(self):\n",
    "        return self.X.shape[0]\n",
    "\n",
    "    def __getitem__(self, index):\n",
    "        data = torch.tensor(self.X[index]).float()\n",
    "        labels = torch.tensor(self.Y[index]).float()\n",
    "        return data, labels\n",
    "\n",
    "\n",
    "\n",
    "\n",
    "X_train, X_val, X_test, Y_train, Y_val, Y_test = datasets['X_train'], datasets[\n",
    "    'X_val'], datasets['X_test'], datasets['Y_train'], datasets['Y_val'], datasets['Y_test']\n",
    "\n",
    "train_set = CustomDataset(X=X_train, Y=Y_train)\n",
    "val_set = CustomDataset(X=X_val, Y=Y_val)\n",
    "test_set = CustomDataset(X=X_test, Y=Y_test)\n",
    "\n",
    "\n",
    "\n",
    "\n",
    "dataloader_train = torch.utils.data.DataLoader(\n",
    "    train_set, batch_size=batch_size, shuffle=True, pin_memory=False)\n",
    "dataloader_val = torch.utils.data.DataLoader(\n",
    "    val_set, batch_size=batch_size, shuffle=True, pin_memory=False)\n",
    "dataloader_test = torch.utils.data.DataLoader(\n",
    "    test_set, batch_size=batch_size, shuffle=True, pin_memory=False)"
   ]
  },
  {
   "attachments": {},
   "cell_type": "markdown",
   "metadata": {},
   "source": [
    "## 3. Train and evaluate"
   ]
  },
  {
   "cell_type": "code",
   "execution_count": 9,
   "metadata": {},
   "outputs": [],
   "source": [
    "# custom_training_config = {\n",
    "#     'pre_seq_length': pre_seq_length,\n",
    "#     'aft_seq_length': aft_seq_length,\n",
    "#     'total_length': pre_seq_length + aft_seq_length,\n",
    "#     'batch_size': batch_size,\n",
    "#     'val_batch_size': batch_size,\n",
    "#     'epoch': 100,\n",
    "#     'lr': 1e-3,\n",
    "#     'metrics': ['mse', 'mae'],\n",
    "\n",
    "#     'ex_name': 'custom_exp',\n",
    "#     'dataname': 'custom',\n",
    "#     'in_shape': [pre_seq_length, 1, 64,64],\n",
    "# }\n",
    "\n",
    "# custom_model_config = {\n",
    "#     'method' : 'TAU',\n",
    "#     # model\n",
    "#     'spatio_kernel_enc' : 3,\n",
    "#     'spatio_kernel_dec' : 3,\n",
    "#     'model_type' : 'tau',\n",
    "#     'hid_S' : 128,\n",
    "#     'hid_T' : 512,\n",
    "#     'N_T' : 8,\n",
    "#     'N_S' :8,\n",
    "#     'alpha' : 0.1,\n",
    "#     # training\n",
    "#     'drop_path' : 0,\n",
    "#     'sched' : 'onecycle'\n",
    "# }\n",
    "\n",
    "\n",
    "\n",
    "\n",
    "\n",
    "\n",
    "\n",
    "custom_training_config = {\n",
    "    'pre_seq_length': pre_seq_length,\n",
    "    'aft_seq_length': aft_seq_length,\n",
    "    'total_length': pre_seq_length + aft_seq_length,\n",
    "    'batch_size': batch_size,\n",
    "    'val_batch_size': batch_size,\n",
    "    'epoch': 3,\n",
    "    'lr': 0.001,   \n",
    "    'metrics': ['mse', 'mae'],\n",
    "\n",
    "    'ex_name': 'custom_exp__2',\n",
    "    'dataname': 'custom__2',\n",
    "    'in_shape': [pre_seq_length, 1, 64,64],\n",
    "}\n",
    "\n",
    "custom_model_config = {\n",
    "    # For MetaVP models, the most important hyperparameters are: \n",
    "    # N_S, N_T, hid_S, hid_T, model_type\n",
    "    'method': 'SimVP',\n",
    "    # Users can either using a config file or directly set these hyperparameters \n",
    "    'config_file': '/home/drajani/Desktop/OpenSTL/configs/mmnist/simvp/SimVP_gSTA.py',\n",
    "    \n",
    "    # Here, we directly set these parameters\n",
    "    'model_type': 'gSTA',\n",
    "    'N_S': 4,\n",
    "    'N_T': 8,\n",
    "    'hid_S': 64,\n",
    "    'hid_T': 256\n",
    "}"
   ]
  },
  {
   "cell_type": "code",
   "execution_count": 1,
   "metadata": {},
   "outputs": [
    {
     "ename": "ModuleNotFoundError",
     "evalue": "No module named 'openstl'",
     "output_type": "error",
     "traceback": [
      "\u001b[0;31m---------------------------------------------------------------------------\u001b[0m",
      "\u001b[0;31mModuleNotFoundError\u001b[0m                       Traceback (most recent call last)",
      "Cell \u001b[0;32mIn[1], line 1\u001b[0m\n\u001b[0;32m----> 1\u001b[0m \u001b[38;5;28;01mfrom\u001b[39;00m \u001b[38;5;21;01mopenstl\u001b[39;00m\u001b[38;5;21;01m.\u001b[39;00m\u001b[38;5;21;01mapi\u001b[39;00m \u001b[38;5;28;01mimport\u001b[39;00m BaseExperiment\n\u001b[1;32m      2\u001b[0m \u001b[38;5;28;01mfrom\u001b[39;00m \u001b[38;5;21;01mopenstl\u001b[39;00m\u001b[38;5;21;01m.\u001b[39;00m\u001b[38;5;21;01mutils\u001b[39;00m \u001b[38;5;28;01mimport\u001b[39;00m create_parser, default_parser\n\u001b[1;32m      4\u001b[0m args \u001b[38;5;241m=\u001b[39m create_parser()\u001b[38;5;241m.\u001b[39mparse_args([])\n",
      "\u001b[0;31mModuleNotFoundError\u001b[0m: No module named 'openstl'"
     ]
    }
   ],
   "source": [
    "from openstl.api import BaseExperiment\n",
    "from openstl.utils import create_parser, default_parser\n",
    "\n",
    "args = create_parser().parse_args([])\n",
    "config = args.__dict__\n",
    "\n",
    "# update the training config\n",
    "config.update(custom_training_config)\n",
    "# update the model config\n",
    "config.update(custom_model_config)\n",
    "# fulfill with default values\n",
    "default_values = default_parser()\n",
    "for attribute in default_values.keys():\n",
    "    if config[attribute] is None:\n",
    "        config[attribute] = default_values[attribute]\n",
    "\n",
    "\n",
    "print('done')\n",
    "\n",
    "exp = BaseExperiment(args, dataloaders=(dataloader_train, dataloader_val, dataloader_test), strategy='auto')\n",
    "print('done2')\n"
   ]
  },
  {
   "cell_type": "code",
   "execution_count": 24,
   "metadata": {},
   "outputs": [
    {
     "name": "stderr",
     "output_type": "stream",
     "text": [
      "Seed set to 42\n"
     ]
    },
    {
     "name": "stdout",
     "output_type": "stream",
     "text": [
      "Flag_1\n",
      "Flag_2\n",
      "Flag_3\n",
      "Flag_3a\n"
     ]
    }
   ],
   "source": [
    "from openstl.api import BaseExperiment\n",
    "from openstl.utils import create_parser, default_parser\n",
    "\n",
    "args = create_parser().parse_args([])\n",
    "config = args.__dict__\n",
    "\n",
    "print('Flag_1')\n",
    "\n",
    "# update the training config\n",
    "config.update(custom_training_config)\n",
    "print('Flag_2')\n",
    "\n",
    "# update the model config\n",
    "config.update(custom_model_config)\n",
    "print('Flag_3')\n",
    "\n",
    "# fulfill with default values\n",
    "default_values = default_parser()\n",
    "for attribute in default_values.keys():\n",
    "    if config[attribute] is None:\n",
    "        config[attribute] = default_values[attribute]\n",
    "\n",
    "print('Flag_3a')\n",
    "\n",
    "exp = BaseExperiment(args, dataloaders=(dataloader_train, dataloader_val, dataloader_test), strategy='auto')\n",
    "print('Flag_4')"
   ]
  },
  {
   "cell_type": "code",
   "execution_count": 2,
   "metadata": {},
   "outputs": [
    {
     "name": "stdout",
     "output_type": "stream",
     "text": [
      "Tue Jul  2 21:38:06 2024       \n",
      "+---------------------------------------------------------------------------------------+\n",
      "| NVIDIA-SMI 535.129.03             Driver Version: 535.129.03   CUDA Version: 12.2     |\n",
      "|-----------------------------------------+----------------------+----------------------+\n",
      "| GPU  Name                 Persistence-M | Bus-Id        Disp.A | Volatile Uncorr. ECC |\n",
      "| Fan  Temp   Perf          Pwr:Usage/Cap |         Memory-Usage | GPU-Util  Compute M. |\n",
      "|                                         |                      |               MIG M. |\n",
      "|=========================================+======================+======================|\n",
      "|   0  NVIDIA RTX A6000               Off | 00000000:21:00.0 Off |                    0 |\n",
      "| 38%   66C    P2             126W / 300W |  30705MiB / 46068MiB |      1%      Default |\n",
      "|                                         |                      |                  N/A |\n",
      "+-----------------------------------------+----------------------+----------------------+\n",
      "|   1  NVIDIA RTX A6000               Off | 00000000:22:00.0  On |                    0 |\n",
      "| 63%   84C    P2             284W / 300W |  41457MiB / 46068MiB |     80%      Default |\n",
      "|                                         |                      |                  N/A |\n",
      "+-----------------------------------------+----------------------+----------------------+\n",
      "                                                                                         \n",
      "+---------------------------------------------------------------------------------------+\n",
      "| Processes:                                                                            |\n",
      "|  GPU   GI   CI        PID   Type   Process name                            GPU Memory |\n",
      "|        ID   ID                                                             Usage      |\n",
      "|=======================================================================================|\n",
      "|    0   N/A  N/A      1580      G   /usr/lib/xorg/Xorg                            9MiB |\n",
      "|    0   N/A  N/A      1785      G   /usr/bin/gnome-shell                          5MiB |\n",
      "|    0   N/A  N/A    249341      C   /bin/python3                                364MiB |\n",
      "|    0   N/A  N/A   1007928      C   python                                    14334MiB |\n",
      "|    0   N/A  N/A   1036887      C   python                                    14188MiB |\n",
      "|    1   N/A  N/A      1580      G   /usr/lib/xorg/Xorg                           56MiB |\n",
      "|    1   N/A  N/A      7304      C   python                                    41386MiB |\n",
      "+---------------------------------------------------------------------------------------+\n"
     ]
    }
   ],
   "source": [
    "\n",
    "!nvidia-smi"
   ]
  },
  {
   "attachments": {},
   "cell_type": "markdown",
   "metadata": {},
   "source": [
    "### 3.3 Start training and evaluation\n",
    "\n",
    "With everything in place, we are now ready to start training and evaluation. \n",
    "\n",
    "Here we go!"
   ]
  },
  {
   "cell_type": "code",
   "execution_count": 41,
   "metadata": {},
   "outputs": [
    {
     "name": "stderr",
     "output_type": "stream",
     "text": [
      "You are using a CUDA device ('NVIDIA RTX A6000') that has Tensor Cores. To properly utilize them, you should set `torch.set_float32_matmul_precision('medium' | 'high')` which will trade-off precision for performance. For more details, read https://pytorch.org/docs/stable/generated/torch.set_float32_matmul_precision.html#torch.set_float32_matmul_precision\n"
     ]
    },
    {
     "name": "stdout",
     "output_type": "stream",
     "text": [
      ">>>>>>>>>>>>>>>>>>>>>>>>>>>>>>>>>>> testing  <<<<<<<<<<<<<<<<<<<<<<<<<<<<<<<<<<<\n"
     ]
    },
    {
     "name": "stderr",
     "output_type": "stream",
     "text": [
      "2024-07-01 19:56:42.471745: I tensorflow/core/platform/cpu_feature_guard.cc:210] This TensorFlow binary is optimized to use available CPU instructions in performance-critical operations.\n",
      "To enable the following instructions: AVX2 FMA, in other operations, rebuild TensorFlow with the appropriate compiler flags.\n",
      "2024-07-01 19:56:43.130967: W tensorflow/compiler/tf2tensorrt/utils/py_utils.cc:38] TF-TRT Warning: Could not find TensorRT\n",
      "LOCAL_RANK: 0 - CUDA_VISIBLE_DEVICES: [0,1]\n"
     ]
    },
    {
     "data": {
      "application/vnd.jupyter.widget-view+json": {
       "model_id": "74b50d0fced445a3b83997c9daf90328",
       "version_major": 2,
       "version_minor": 0
      },
      "text/plain": [
       "Testing: |          | 0/? [00:00<?, ?it/s]"
      ]
     },
     "metadata": {},
     "output_type": "display_data"
    },
    {
     "name": "stdout",
     "output_type": "stream",
     "text": [
      "mse:8420682.0, mae:40401.0546875\n"
     ]
    }
   ],
   "source": [
    "# print('>'*35 + ' training ' + '<'*35)\n",
    "# exp.train()\n",
    "\n",
    "print('>'*35 + ' testing  ' + '<'*35)\n",
    "exp.test()"
   ]
  },
  {
   "attachments": {},
   "cell_type": "markdown",
   "metadata": {},
   "source": [
    "## Visualization\n",
    "\n",
    "By employing the `show_video_line` and `show_video_gif_multiple` functions provided by `OpenSTL`, we can visualize the input, ground truth, and predicted frames, as well as generate corresponding GIFs."
   ]
  },
  {
   "attachments": {},
   "cell_type": "markdown",
   "metadata": {},
   "source": [
    "### 4.1 Visualize in a line"
   ]
  },
  {
   "cell_type": "code",
   "execution_count": 42,
   "metadata": {},
   "outputs": [
    {
     "name": "stderr",
     "output_type": "stream",
     "text": [
      "WARNING:matplotlib.image:Clipping input data to the valid range for imshow with RGB data ([0..1] for floats or [0..255] for integers).\n"
     ]
    },
    {
     "data": {
      "image/png": "[encoded data removed]",
      "text/plain": [
       "<Figure size 325x300 with 1 Axes>"
      ]
     },
     "metadata": {},
     "output_type": "display_data"
    }
   ],
   "source": [
    "import numpy as np\n",
    "from openstl.utils import show_video_line\n",
    "\n",
    "# show the given frames from an example\n",
    "inputs = np.load('./work_dirs/custom_exp/saved/inputs.npy')\n",
    "preds = np.load('./work_dirs/custom_exp/saved/preds.npy')\n",
    "trues = np.load('./work_dirs/custom_exp/saved/trues.npy')\n",
    "\n",
    "example_idx = 10\n",
    "show_video_line(trues[example_idx], ncols=aft_seq_length, vmax=0.6, cbar=False, out_path=None, format='png', use_rgb=True)"
   ]
  },
  {
   "cell_type": "code",
   "execution_count": 43,
   "metadata": {},
   "outputs": [
    {
     "name": "stderr",
     "output_type": "stream",
     "text": [
      "WARNING:matplotlib.image:Clipping input data to the valid range for imshow with RGB data ([0..1] for floats or [0..255] for integers).\n",
      "WARNING:matplotlib.image:Clipping input data to the valid range for imshow with RGB data ([0..1] for floats or [0..255] for integers).\n",
      "WARNING:matplotlib.image:Clipping input data to the valid range for imshow with RGB data ([0..1] for floats or [0..255] for integers).\n",
      "WARNING:matplotlib.image:Clipping input data to the valid range for imshow with RGB data ([0..1] for floats or [0..255] for integers).\n",
      "WARNING:matplotlib.image:Clipping input data to the valid range for imshow with RGB data ([0..1] for floats or [0..255] for integers).\n",
      "WARNING:matplotlib.image:Clipping input data to the valid range for imshow with RGB data ([0..1] for floats or [0..255] for integers).\n",
      "WARNING:matplotlib.image:Clipping input data to the valid range for imshow with RGB data ([0..1] for floats or [0..255] for integers).\n",
      "WARNING:matplotlib.image:Clipping input data to the valid range for imshow with RGB data ([0..1] for floats or [0..255] for integers).\n",
      "WARNING:matplotlib.image:Clipping input data to the valid range for imshow with RGB data ([0..1] for floats or [0..255] for integers).\n",
      "WARNING:matplotlib.image:Clipping input data to the valid range for imshow with RGB data ([0..1] for floats or [0..255] for integers).\n"
     ]
    },
    {
     "data": {
      "image/png": "[encoded data removed]",
      "text/plain": [
       "<Figure size 3250x300 with 10 Axes>"
      ]
     },
     "metadata": {},
     "output_type": "display_data"
    }
   ],
   "source": [
    "show_video_line(inputs[example_idx], ncols=pre_seq_length, vmax=0.6, cbar=False, out_path=None, format='png', use_rgb=True)"
   ]
  },
  {
   "cell_type": "code",
   "execution_count": 44,
   "metadata": {},
   "outputs": [
    {
     "name": "stderr",
     "output_type": "stream",
     "text": [
      "WARNING:matplotlib.image:Clipping input data to the valid range for imshow with RGB data ([0..1] for floats or [0..255] for integers).\n"
     ]
    },
    {
     "data": {
      "image/png": "[encoded data removed]",
      "text/plain": [
       "<Figure size 325x300 with 1 Axes>"
      ]
     },
     "metadata": {},
     "output_type": "display_data"
    }
   ],
   "source": [
    "example_idx = 10\n",
    "show_video_line(preds[example_idx], ncols=aft_seq_length, vmax=0.6, cbar=False, out_path=None, format='png', use_rgb=True)"
   ]
  },
  {
   "cell_type": "code",
   "execution_count": 46,
   "metadata": {},
   "outputs": [],
   "source": [
    "def normalize_to_255(arr):\n",
    "    # Ensure the array is in float for accurate division\n",
    "    arr = arr.astype(np.float32)\n",
    "    \n",
    "    # Find the minimum and maximum values in the array\n",
    "    min_val = np.min(arr)\n",
    "    max_val = np.max(arr)\n",
    "    \n",
    "    # Normalize the array to the 0-1 range\n",
    "    normalized_arr = (arr - min_val) / (max_val - min_val)\n",
    "    \n",
    "    # Scale the normalized values to the 0-255 range\n",
    "    scaled_arr = normalized_arr * 255.0\n",
    "    \n",
    "    # Convert to uint8 type\n",
    "    scaled_arr = scaled_arr.astype(np.uint8)\n",
    "    \n",
    "    return scaled_arr"
   ]
  },
  {
   "cell_type": "code",
   "execution_count": 47,
   "metadata": {},
   "outputs": [],
   "source": [
    "preds = normalize_to_255(preds)"
   ]
  },
  {
   "cell_type": "code",
   "execution_count": null,
   "metadata": {},
   "outputs": [],
   "source": []
  },
  {
   "cell_type": "code",
   "execution_count": null,
   "metadata": {},
   "outputs": [],
   "source": []
  },
  {
   "attachments": {},
   "cell_type": "markdown",
   "metadata": {},
   "source": [
    "### 4.2 Generate a GIF"
   ]
  },
  {
   "cell_type": "code",
   "execution_count": null,
   "metadata": {},
   "outputs": [],
   "source": [
    "from openstl.utils import show_video_gif_multiple\n",
    "\n",
    "example_idx = 0\n",
    "show_video_gif_multiple(inputs[example_idx], trues[example_idx], preds[example_idx], use_rgb=True, out_path='example.gif')"
   ]
  },
  {
   "cell_type": "code",
   "execution_count": null,
   "metadata": {},
   "outputs": [],
   "source": []
  }
 ],
 "metadata": {
  "kernelspec": {
   "display_name": "Python 3 (ipykernel)",
   "language": "python",
   "name": "python3"
  },
  "language_info": {
   "codemirror_mode": {
    "name": "ipython",
    "version": 3
   },
   "file_extension": ".py",
   "mimetype": "text/x-python",
   "name": "python",
   "nbconvert_exporter": "python",
   "pygments_lexer": "ipython3",
   "version": "3.10.12"
  }
 },
 "nbformat": 4,
 "nbformat_minor": 4
}
